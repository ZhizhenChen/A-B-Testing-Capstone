{
 "cells": [
  {
   "cell_type": "markdown",
   "id": "59bcefef-911b-4101-b93d-3951812e344a",
   "metadata": {},
   "source": [
    "# <center>Starbuck Capstone Project "
   ]
  },
  {
   "cell_type": "markdown",
   "id": "2334bed8-bdda-47f3-81f0-f37c45d59e85",
   "metadata": {},
   "source": [
    "<center> <font size = 4>Zhizhen Chen June 2024</center>"
   ]
  },
  {
   "cell_type": "markdown",
   "id": "7c634c84-4751-4be4-b280-7387692d02f3",
   "metadata": {},
   "source": [
    "## Background Introduction\n",
    "The data for this exercise consists of about 120,000 Starbuck data points split in a 2:1 ratio among training and test files. In the experiment simulated by the data, an advertising promotion was tested to see if it would bring more customers to purchase a specific product priced at $10. Since it costs the company 0.15 to send out each promotion, it would be best to limit that promotion only to those that are most receptive to the promotion. Each data point includes one column indicating whether or not an individual was sent a promotion for the product, and one column indicating whether or not that individual eventually purchased that product. Each individual also has seven additional features associated with them, which are provided abstractly as V1-V7."
   ]
  },
  {
   "cell_type": "markdown",
   "id": "27bdb6aa-2c64-44ea-a3cb-39c5c8b67c0e",
   "metadata": {},
   "source": [
    "## Task Description\n",
    "\n",
    "In this task, we will use the training data to perform an experiment on starbuck's promotion algorithm, to find out which customers are more likely to be affected by this advertising promotion, and to evaluate if it generated sufficient significance to prove its effective.\n",
    "\n",
    "We have two indicators for evaluation, our final goal is to maximize both:\n",
    "* **Incremental Response Rate (IRR)**\n",
    "\n",
    "IRR depicts how many more customers purchased the product with the promotion, as compared to if they didn't receive the promotion. Mathematically, it's the ratio of the number of purchasers in the promotion group to the total number of customers in the purchasers group (_treatment_) minus the ratio of the number of purchasers in the non-promotional group to the total number of customers in the non-promotional group (_control_).\n",
    "\n",
    "$$ IRR = \\frac{purch_{treat}}{cust_{treat}} - \\frac{purch_{ctrl}}{cust_{ctrl}} $$\n",
    "\n",
    "* **Net Incremental Revenue (NIR)**\n",
    "\n",
    "NIR depicts how much is made (or lost) by sending out the promotion. Mathematically, this is 10 times the total number of purchasers that received the promotion minus 0.15 times the number of promotions sent out, minus 10 times the number of purchasers who were not given the promotion.\n",
    "\n",
    "$$ NIR = (10\\cdot purch_{treat} - 0.15 \\cdot cust_{treat}) - 10 \\cdot purch_{ctrl}$$\n",
    "\n",
    "\n",
    "Detailed task are listed below:\n",
    "\n",
    "**Task 1)**\n",
    "\n",
    "Analyze the results of the experiment and identify the effect of the treatment on product purchase and Net Incremental Revenue (NIR).\n",
    "\n",
    "**Task 2)**\n",
    "\n",
    "Build a model to select the best customers to target that maximizes the Incremental Response Rate (IRR) and Net Incremental Revenue (NIR)."
   ]
  },
  {
   "cell_type": "markdown",
   "id": "56e92422-75a6-46e3-a548-954e2a08ea49",
   "metadata": {},
   "source": [
    "### Import"
   ]
  },
  {
   "cell_type": "code",
   "execution_count": 1,
   "id": "2a31cff7-9433-457a-aabb-ef1c5446be80",
   "metadata": {},
   "outputs": [],
   "source": [
    "# load packages\n",
    "from itertools import combinations\n",
    "\n",
    "import numpy as np\n",
    "import pandas as pd\n",
    "import scipy as sp\n",
    "import sklearn as sk\n",
    "from sklearn import svm\n",
    "import scipy.stats as stats\n",
    "from sklearn.metrics import confusion_matrix, classification_report\n",
    "from sklearn.naive_bayes import GaussianNB\n",
    "from sklearn.ensemble import RandomForestClassifier\n",
    "\n",
    "import matplotlib.pyplot as plt\n",
    "import seaborn as sb"
   ]
  },
  {
   "cell_type": "code",
   "execution_count": 2,
   "id": "42a597f5-631e-4ffd-9be5-d7ae3449c940",
   "metadata": {
    "scrolled": true
   },
   "outputs": [
    {
     "data": {
      "text/html": [
       "<div>\n",
       "<style scoped>\n",
       "    .dataframe tbody tr th:only-of-type {\n",
       "        vertical-align: middle;\n",
       "    }\n",
       "\n",
       "    .dataframe tbody tr th {\n",
       "        vertical-align: top;\n",
       "    }\n",
       "\n",
       "    .dataframe thead th {\n",
       "        text-align: right;\n",
       "    }\n",
       "</style>\n",
       "<table border=\"1\" class=\"dataframe\">\n",
       "  <thead>\n",
       "    <tr style=\"text-align: right;\">\n",
       "      <th></th>\n",
       "      <th>ID</th>\n",
       "      <th>Promotion</th>\n",
       "      <th>purchase</th>\n",
       "      <th>V1</th>\n",
       "      <th>V2</th>\n",
       "      <th>V3</th>\n",
       "      <th>V4</th>\n",
       "      <th>V5</th>\n",
       "      <th>V6</th>\n",
       "      <th>V7</th>\n",
       "    </tr>\n",
       "  </thead>\n",
       "  <tbody>\n",
       "    <tr>\n",
       "      <th>0</th>\n",
       "      <td>1</td>\n",
       "      <td>No</td>\n",
       "      <td>0</td>\n",
       "      <td>2</td>\n",
       "      <td>30.443518</td>\n",
       "      <td>-1.165083</td>\n",
       "      <td>1</td>\n",
       "      <td>1</td>\n",
       "      <td>3</td>\n",
       "      <td>2</td>\n",
       "    </tr>\n",
       "    <tr>\n",
       "      <th>1</th>\n",
       "      <td>3</td>\n",
       "      <td>No</td>\n",
       "      <td>0</td>\n",
       "      <td>3</td>\n",
       "      <td>32.159350</td>\n",
       "      <td>-0.645617</td>\n",
       "      <td>2</td>\n",
       "      <td>3</td>\n",
       "      <td>2</td>\n",
       "      <td>2</td>\n",
       "    </tr>\n",
       "    <tr>\n",
       "      <th>2</th>\n",
       "      <td>4</td>\n",
       "      <td>No</td>\n",
       "      <td>0</td>\n",
       "      <td>2</td>\n",
       "      <td>30.431659</td>\n",
       "      <td>0.133583</td>\n",
       "      <td>1</td>\n",
       "      <td>1</td>\n",
       "      <td>4</td>\n",
       "      <td>2</td>\n",
       "    </tr>\n",
       "    <tr>\n",
       "      <th>3</th>\n",
       "      <td>5</td>\n",
       "      <td>No</td>\n",
       "      <td>0</td>\n",
       "      <td>0</td>\n",
       "      <td>26.588914</td>\n",
       "      <td>-0.212728</td>\n",
       "      <td>2</td>\n",
       "      <td>1</td>\n",
       "      <td>4</td>\n",
       "      <td>2</td>\n",
       "    </tr>\n",
       "    <tr>\n",
       "      <th>4</th>\n",
       "      <td>8</td>\n",
       "      <td>Yes</td>\n",
       "      <td>0</td>\n",
       "      <td>3</td>\n",
       "      <td>28.044331</td>\n",
       "      <td>-0.385883</td>\n",
       "      <td>1</td>\n",
       "      <td>1</td>\n",
       "      <td>2</td>\n",
       "      <td>2</td>\n",
       "    </tr>\n",
       "  </tbody>\n",
       "</table>\n",
       "</div>"
      ],
      "text/plain": [
       "   ID Promotion  purchase  V1         V2        V3  V4  V5  V6  V7\n",
       "0   1        No         0   2  30.443518 -1.165083   1   1   3   2\n",
       "1   3        No         0   3  32.159350 -0.645617   2   3   2   2\n",
       "2   4        No         0   2  30.431659  0.133583   1   1   4   2\n",
       "3   5        No         0   0  26.588914 -0.212728   2   1   4   2\n",
       "4   8       Yes         0   3  28.044331 -0.385883   1   1   2   2"
      ]
     },
     "execution_count": 2,
     "metadata": {},
     "output_type": "execute_result"
    }
   ],
   "source": [
    "#load data\n",
    "\n",
    "train_data = pd.read_csv('./training.csv')\n",
    "train_data.head()"
   ]
  },
  {
   "cell_type": "code",
   "execution_count": 3,
   "id": "3ab7e3e5-c93b-4918-8c3a-b52581f66ff9",
   "metadata": {
    "scrolled": true
   },
   "outputs": [
    {
     "data": {
      "text/html": [
       "<div>\n",
       "<style scoped>\n",
       "    .dataframe tbody tr th:only-of-type {\n",
       "        vertical-align: middle;\n",
       "    }\n",
       "\n",
       "    .dataframe tbody tr th {\n",
       "        vertical-align: top;\n",
       "    }\n",
       "\n",
       "    .dataframe thead th {\n",
       "        text-align: right;\n",
       "    }\n",
       "</style>\n",
       "<table border=\"1\" class=\"dataframe\">\n",
       "  <thead>\n",
       "    <tr style=\"text-align: right;\">\n",
       "      <th></th>\n",
       "      <th>ID</th>\n",
       "      <th>purchase</th>\n",
       "      <th>V1</th>\n",
       "      <th>V2</th>\n",
       "      <th>V3</th>\n",
       "      <th>V4</th>\n",
       "      <th>V5</th>\n",
       "      <th>V6</th>\n",
       "      <th>V7</th>\n",
       "    </tr>\n",
       "  </thead>\n",
       "  <tbody>\n",
       "    <tr>\n",
       "      <th>count</th>\n",
       "      <td>84534.000000</td>\n",
       "      <td>84534.000000</td>\n",
       "      <td>84534.000000</td>\n",
       "      <td>84534.000000</td>\n",
       "      <td>84534.000000</td>\n",
       "      <td>84534.000000</td>\n",
       "      <td>84534.000000</td>\n",
       "      <td>84534.000000</td>\n",
       "      <td>84534.000000</td>\n",
       "    </tr>\n",
       "    <tr>\n",
       "      <th>mean</th>\n",
       "      <td>62970.972413</td>\n",
       "      <td>0.012303</td>\n",
       "      <td>1.500662</td>\n",
       "      <td>29.973600</td>\n",
       "      <td>0.000190</td>\n",
       "      <td>1.679608</td>\n",
       "      <td>2.327643</td>\n",
       "      <td>2.502898</td>\n",
       "      <td>1.701694</td>\n",
       "    </tr>\n",
       "    <tr>\n",
       "      <th>std</th>\n",
       "      <td>36418.440539</td>\n",
       "      <td>0.110234</td>\n",
       "      <td>0.868234</td>\n",
       "      <td>5.010626</td>\n",
       "      <td>1.000485</td>\n",
       "      <td>0.466630</td>\n",
       "      <td>0.841167</td>\n",
       "      <td>1.117349</td>\n",
       "      <td>0.457517</td>\n",
       "    </tr>\n",
       "    <tr>\n",
       "      <th>min</th>\n",
       "      <td>1.000000</td>\n",
       "      <td>0.000000</td>\n",
       "      <td>0.000000</td>\n",
       "      <td>7.104007</td>\n",
       "      <td>-1.684550</td>\n",
       "      <td>1.000000</td>\n",
       "      <td>1.000000</td>\n",
       "      <td>1.000000</td>\n",
       "      <td>1.000000</td>\n",
       "    </tr>\n",
       "    <tr>\n",
       "      <th>25%</th>\n",
       "      <td>31467.250000</td>\n",
       "      <td>0.000000</td>\n",
       "      <td>1.000000</td>\n",
       "      <td>26.591501</td>\n",
       "      <td>-0.905350</td>\n",
       "      <td>1.000000</td>\n",
       "      <td>2.000000</td>\n",
       "      <td>2.000000</td>\n",
       "      <td>1.000000</td>\n",
       "    </tr>\n",
       "    <tr>\n",
       "      <th>50%</th>\n",
       "      <td>62827.500000</td>\n",
       "      <td>0.000000</td>\n",
       "      <td>2.000000</td>\n",
       "      <td>29.979744</td>\n",
       "      <td>-0.039572</td>\n",
       "      <td>2.000000</td>\n",
       "      <td>2.000000</td>\n",
       "      <td>3.000000</td>\n",
       "      <td>2.000000</td>\n",
       "    </tr>\n",
       "    <tr>\n",
       "      <th>75%</th>\n",
       "      <td>94438.750000</td>\n",
       "      <td>0.000000</td>\n",
       "      <td>2.000000</td>\n",
       "      <td>33.344593</td>\n",
       "      <td>0.826206</td>\n",
       "      <td>2.000000</td>\n",
       "      <td>3.000000</td>\n",
       "      <td>4.000000</td>\n",
       "      <td>2.000000</td>\n",
       "    </tr>\n",
       "    <tr>\n",
       "      <th>max</th>\n",
       "      <td>126184.000000</td>\n",
       "      <td>1.000000</td>\n",
       "      <td>3.000000</td>\n",
       "      <td>50.375913</td>\n",
       "      <td>1.691984</td>\n",
       "      <td>2.000000</td>\n",
       "      <td>4.000000</td>\n",
       "      <td>4.000000</td>\n",
       "      <td>2.000000</td>\n",
       "    </tr>\n",
       "  </tbody>\n",
       "</table>\n",
       "</div>"
      ],
      "text/plain": [
       "                  ID      purchase            V1            V2            V3  \\\n",
       "count   84534.000000  84534.000000  84534.000000  84534.000000  84534.000000   \n",
       "mean    62970.972413      0.012303      1.500662     29.973600      0.000190   \n",
       "std     36418.440539      0.110234      0.868234      5.010626      1.000485   \n",
       "min         1.000000      0.000000      0.000000      7.104007     -1.684550   \n",
       "25%     31467.250000      0.000000      1.000000     26.591501     -0.905350   \n",
       "50%     62827.500000      0.000000      2.000000     29.979744     -0.039572   \n",
       "75%     94438.750000      0.000000      2.000000     33.344593      0.826206   \n",
       "max    126184.000000      1.000000      3.000000     50.375913      1.691984   \n",
       "\n",
       "                 V4            V5            V6            V7  \n",
       "count  84534.000000  84534.000000  84534.000000  84534.000000  \n",
       "mean       1.679608      2.327643      2.502898      1.701694  \n",
       "std        0.466630      0.841167      1.117349      0.457517  \n",
       "min        1.000000      1.000000      1.000000      1.000000  \n",
       "25%        1.000000      2.000000      2.000000      1.000000  \n",
       "50%        2.000000      2.000000      3.000000      2.000000  \n",
       "75%        2.000000      3.000000      4.000000      2.000000  \n",
       "max        2.000000      4.000000      4.000000      2.000000  "
      ]
     },
     "execution_count": 3,
     "metadata": {},
     "output_type": "execute_result"
    }
   ],
   "source": [
    "train_data.describe()"
   ]
  },
  {
   "cell_type": "markdown",
   "id": "68b96161-8687-4e51-83fc-c601f97c460d",
   "metadata": {},
   "source": [
    "### Check data balance"
   ]
  },
  {
   "cell_type": "code",
   "execution_count": 7,
   "id": "36cc05e8-0f5f-4881-b90e-66d09dd76403",
   "metadata": {
    "scrolled": true
   },
   "outputs": [
    {
     "name": "stdout",
     "output_type": "stream",
     "text": [
      "Promotion\n",
      "Yes    42364\n",
      "No     42170\n",
      "Name: count, dtype: int64\n"
     ]
    },
    {
     "data": {
      "image/png": "[encoded data removed]",
      "text/plain": [
       "<Figure size 640x480 with 1 Axes>"
      ]
     },
     "metadata": {},
     "output_type": "display_data"
    }
   ],
   "source": [
    "cnt_promote = train_data['Promotion'].value_counts()\n",
    "train_data['Promotion'].value_counts().plot(kind='bar')\n",
    "print(cnt_promote)"
   ]
  },
  {
   "cell_type": "code",
   "execution_count": 6,
   "id": "8829eda4-a3dc-4fcb-90f8-ac2c880b2263",
   "metadata": {
    "scrolled": true
   },
   "outputs": [
    {
     "name": "stdout",
     "output_type": "stream",
     "text": [
      "purchase\n",
      "0    83494\n",
      "1     1040\n",
      "Name: count, dtype: int64\n"
     ]
    },
    {
     "data": {
      "image/png": "[encoded data removed]",
      "text/plain": [
       "<Figure size 640x480 with 1 Axes>"
      ]
     },
     "metadata": {},
     "output_type": "display_data"
    }
   ],
   "source": [
    "cnt_purchase = train_data['purchase'].value_counts()\n",
    "train_data['purchase'].value_counts().plot(kind='bar')\n",
    "print(cnt_purchase)"
   ]
  },
  {
   "cell_type": "markdown",
   "id": "258278eb-1758-4792-8d1f-887a03a06164",
   "metadata": {},
   "source": [
    "From the visualization we can indicate that:\n",
    "\n",
    "* The sample size for promotion data is balanced\n",
    "* The sample size for purchased data is imbalanced\n",
    "\n",
    "We further check for (2)"
   ]
  },
  {
   "cell_type": "markdown",
   "id": "f2a7815d-872b-4308-b5bf-dfa7c365dfa3",
   "metadata": {},
   "source": [
    "### Invariant Metric"
   ]
  },
  {
   "cell_type": "code",
   "execution_count": 8,
   "id": "39a00148-e997-47cd-a482-43af5264d523",
   "metadata": {},
   "outputs": [],
   "source": [
    "# Let's define the groups\n",
    "n_treated_train = train_data[train_data['Promotion']=='Yes']['Promotion'].count()\n",
    "n_non_treated_train = train_data[train_data['Promotion']=='No']['Promotion'].count()\n",
    "n_purch_treat_train = train_data[(train_data['Promotion']=='Yes') & (train_data['purchase']==1)]['Promotion'].count()\n",
    "n_purch_non_treat_train = train_data[(train_data['Promotion']=='No') & (train_data['purchase']==1)]['Promotion'].count()"
   ]
  },
  {
   "cell_type": "code",
   "execution_count": 9,
   "id": "59cb6db0-088c-49b3-b857-197e9325c65c",
   "metadata": {},
   "outputs": [],
   "source": [
    "# p_null value\n",
    "p_null = n_purch_non_treat_train / n_non_treated_train\n",
    "# standard error\n",
    "se_null = np.sqrt(p_null * (1 - p_null) * (1/n_non_treated_train + 1/n_treated_train))"
   ]
  },
  {
   "cell_type": "code",
   "execution_count": 10,
   "id": "1b558fe1-1db7-4a38-a5bc-abbed9eabb15",
   "metadata": {},
   "outputs": [
    {
     "data": {
      "text/plain": [
       "15.862830106831561"
      ]
     },
     "execution_count": 10,
     "metadata": {},
     "output_type": "execute_result"
    }
   ],
   "source": [
    "# z-score\n",
    "z_train = ((n_purch_treat_train / n_treated_train) - p_null) / se_null\n",
    "z_train"
   ]
  },
  {
   "cell_type": "code",
   "execution_count": 11,
   "id": "cbe32ec7-7100-44c4-b3ff-bd71106c6183",
   "metadata": {},
   "outputs": [
    {
     "data": {
      "text/plain": [
       "0.0"
      ]
     },
     "execution_count": 11,
     "metadata": {},
     "output_type": "execute_result"
    }
   ],
   "source": [
    "# P-value for the calculated z-score\n",
    "p_val_train = 1 - stats.norm.cdf(z_train)\n",
    "p_val_train"
   ]
  },
  {
   "cell_type": "markdown",
   "id": "554a3c48-66c8-46b4-be32-ae3221c1fabf",
   "metadata": {},
   "source": [
    "According to the z value we can claim the imbalance between purchase and non-purchase data."
   ]
  },
  {
   "cell_type": "markdown",
   "id": "1c85897a-51d0-49d7-8ae1-b5852d3d67cc",
   "metadata": {},
   "source": [
    "### Check significance\n",
    "\n",
    "To check whether this experiment is statistically significant, here we apply a 95% confidence interval to check between the experimental group and the control group.\n",
    "\n",
    "- Null hypothesis: purchase rate of control group is also valid for the experiment group\n",
    "- Alternative hypothesis: purchase rate for experiment group is bigger"
   ]
  },
  {
   "cell_type": "code",
   "execution_count": 12,
   "id": "307b50c9-b979-4e1a-b3e6-0bc3d3484b0a",
   "metadata": {},
   "outputs": [
    {
     "data": {
      "text/plain": [
       "0.017019167217448776"
      ]
     },
     "execution_count": 12,
     "metadata": {},
     "output_type": "execute_result"
    }
   ],
   "source": [
    "# Purchase rate of the treated group\n",
    "p_alt = n_purch_treat_train / n_treated_train\n",
    "p_alt"
   ]
  },
  {
   "cell_type": "code",
   "execution_count": 13,
   "id": "be74f223-56d8-4107-99b0-ed5a09d2e8d4",
   "metadata": {},
   "outputs": [
    {
     "data": {
      "text/plain": [
       "0.007564619397676073"
      ]
     },
     "execution_count": 13,
     "metadata": {},
     "output_type": "execute_result"
    }
   ],
   "source": [
    "# Purchase rate of the control group\n",
    "p_null = n_purch_non_treat_train / n_non_treated_train\n",
    "p_null"
   ]
  },
  {
   "cell_type": "code",
   "execution_count": 14,
   "id": "403bb776-d343-4e45-910c-d33e2fc5d56b",
   "metadata": {},
   "outputs": [
    {
     "data": {
      "text/plain": [
       "0.012302742091939338"
      ]
     },
     "execution_count": 14,
     "metadata": {},
     "output_type": "execute_result"
    }
   ],
   "source": [
    "# Pooled proportion\n",
    "p_pool = (n_purch_treat_train + n_purch_non_treat_train) / (n_treated_train + n_non_treated_train)\n",
    "p_pool"
   ]
  },
  {
   "cell_type": "code",
   "execution_count": 15,
   "id": "9664c94f-47f3-4064-b6b2-adf4893d899c",
   "metadata": {},
   "outputs": [
    {
     "data": {
      "text/plain": [
       "0.00075827775128664"
      ]
     },
     "execution_count": 15,
     "metadata": {},
     "output_type": "execute_result"
    }
   ],
   "source": [
    "# Standard error\n",
    "sse = np.sqrt(p_pool * (1 - p_pool) * ((1 / n_treated_train) + (1 / n_non_treated_train)))\n",
    "sse"
   ]
  },
  {
   "cell_type": "code",
   "execution_count": 16,
   "id": "96b07172-2800-4511-a5da-7a57d9636b55",
   "metadata": {},
   "outputs": [
    {
     "data": {
      "text/plain": [
       "12.468449461599388"
      ]
     },
     "execution_count": 16,
     "metadata": {},
     "output_type": "execute_result"
    }
   ],
   "source": [
    "# Z-score\n",
    "z_score = (p_alt - p_null) / sse\n",
    "z_score"
   ]
  },
  {
   "cell_type": "markdown",
   "id": "39cdc707-4e7a-4bb3-b97b-1826d653005b",
   "metadata": {},
   "source": [
    "The z score is unusually high, which indicates a p value close to 0. Therefore, we can reject null hypothesis, the experiment result is statistically significant."
   ]
  },
  {
   "cell_type": "markdown",
   "id": "ad4cf6da-8dff-4ec6-8046-a4d81bf6a431",
   "metadata": {},
   "source": [
    "### Indicators calculation"
   ]
  },
  {
   "cell_type": "code",
   "execution_count": 35,
   "id": "0f9ecc4d-c310-4b9a-b115-a89f50ad7026",
   "metadata": {},
   "outputs": [
    {
     "data": {
      "text/plain": [
       "0.009454547819772702"
      ]
     },
     "execution_count": 35,
     "metadata": {},
     "output_type": "execute_result"
    }
   ],
   "source": [
    "def IRR(n_purch_treat_train,n_treated_train,n_purch_non_treat_train,n_non_treated_train):\n",
    "    return n_purch_treat_train / n_treated_train - n_purch_non_treat_train / n_non_treated_train\n",
    "    \n",
    "IRR(n_purch_treat_train,n_treated_train,n_purch_non_treat_train,n_non_treated_train)"
   ]
  },
  {
   "cell_type": "code",
   "execution_count": 37,
   "id": "e9c4c98c-1d95-432a-9a12-bcff88b192bb",
   "metadata": {},
   "outputs": [
    {
     "data": {
      "text/plain": [
       "-2334.5999999999995"
      ]
     },
     "execution_count": 37,
     "metadata": {},
     "output_type": "execute_result"
    }
   ],
   "source": [
    "def NIR(n_purch_treat_train,n_treated_train,n_purch_non_treat_train):\n",
    "    return (10 * n_purch_treat_train - 0.15 * n_treated_train) - 10 * n_purch_non_treat_train\n",
    "\n",
    "NIR(n_purch_treat_train,n_treated_train,n_purch_non_treat_train)"
   ]
  },
  {
   "cell_type": "markdown",
   "id": "5035e429-7628-4d28-9d94-ca998bbf495a",
   "metadata": {},
   "source": [
    "Here we continue with task 2."
   ]
  },
  {
   "cell_type": "markdown",
   "id": "d0612578-034b-4dae-8e9c-c973d70abae7",
   "metadata": {},
   "source": [
    "### EDA\n",
    "\n",
    "As mentioned aboved, we need to find out promoted users who purchased, so we create a column to record these users, which also serve as the target column of our model."
   ]
  },
  {
   "cell_type": "code",
   "execution_count": 19,
   "id": "b000e47d-9374-4437-9bcb-ec1f19b5d255",
   "metadata": {},
   "outputs": [],
   "source": [
    "# Creating target feature\n",
    "train_data['target'] = train_data.apply(lambda x: x['Promotion'] == 'Yes' and x['purchase'] == 1, axis=1)\n",
    "train_data['target'] = train_data['target'].map({True: 1, False: 0})"
   ]
  },
  {
   "cell_type": "code",
   "execution_count": 20,
   "id": "90524413-e5ca-4e1b-b9ae-0742dce377eb",
   "metadata": {
    "scrolled": true
   },
   "outputs": [
    {
     "data": {
      "text/plain": [
       "target\n",
       "0    83813\n",
       "1      721\n",
       "Name: count, dtype: int64"
      ]
     },
     "execution_count": 20,
     "metadata": {},
     "output_type": "execute_result"
    }
   ],
   "source": [
    "train_data['target'].value_counts()"
   ]
  },
  {
   "cell_type": "markdown",
   "id": "7a684910-f6e3-4bfe-977c-722b288059b2",
   "metadata": {},
   "source": [
    "The data is very imbalance and might cause problems."
   ]
  },
  {
   "cell_type": "code",
   "execution_count": 21,
   "id": "2f046b38-5a92-463e-9ef1-ed9b3fabde9a",
   "metadata": {},
   "outputs": [],
   "source": [
    "# Splitting into features (X) and target value (y)\n",
    "y_train = train_data['target']\n",
    "X_train = train_data[['V1', 'V2', 'V3', 'V4', 'V5', 'V6', 'V7']]"
   ]
  },
  {
   "cell_type": "markdown",
   "id": "82e969d0-7478-4e22-a113-44c86792bfed",
   "metadata": {},
   "source": [
    "### ML model construction"
   ]
  },
  {
   "cell_type": "markdown",
   "id": "d155c081-d9a9-4c7e-829f-0fa6c67bcd60",
   "metadata": {},
   "source": [
    "### SVC"
   ]
  },
  {
   "cell_type": "code",
   "execution_count": 22,
   "id": "e2384717-3374-4ee1-ae91-93a0f0ab68b6",
   "metadata": {},
   "outputs": [
    {
     "name": "stdout",
     "output_type": "stream",
     "text": [
      "              precision    recall  f1-score   support\n",
      "\n",
      "           0       0.99      1.00      1.00     83813\n",
      "           1       0.00      0.00      0.00       721\n",
      "\n",
      "    accuracy                           0.99     84534\n",
      "   macro avg       0.50      0.50      0.50     84534\n",
      "weighted avg       0.98      0.99      0.99     84534\n",
      "\n"
     ]
    },
    {
     "name": "stderr",
     "output_type": "stream",
     "text": [
      "/Library/Frameworks/Python.framework/Versions/3.12/lib/python3.12/site-packages/sklearn/metrics/_classification.py:1497: UndefinedMetricWarning: Precision is ill-defined and being set to 0.0 in labels with no predicted samples. Use `zero_division` parameter to control this behavior.\n",
      "  _warn_prf(average, modifier, f\"{metric.capitalize()} is\", len(result))\n",
      "/Library/Frameworks/Python.framework/Versions/3.12/lib/python3.12/site-packages/sklearn/metrics/_classification.py:1497: UndefinedMetricWarning: Precision is ill-defined and being set to 0.0 in labels with no predicted samples. Use `zero_division` parameter to control this behavior.\n",
      "  _warn_prf(average, modifier, f\"{metric.capitalize()} is\", len(result))\n",
      "/Library/Frameworks/Python.framework/Versions/3.12/lib/python3.12/site-packages/sklearn/metrics/_classification.py:1497: UndefinedMetricWarning: Precision is ill-defined and being set to 0.0 in labels with no predicted samples. Use `zero_division` parameter to control this behavior.\n",
      "  _warn_prf(average, modifier, f\"{metric.capitalize()} is\", len(result))\n"
     ]
    }
   ],
   "source": [
    "model_svc = svm.SVC()\n",
    "model_svc.fit(X_train, y_train)\n",
    "pred_train = model_svc.predict(X_train)\n",
    "\n",
    "print(classification_report(y_train, pred_train))"
   ]
  },
  {
   "cell_type": "markdown",
   "id": "58c322a4-da70-4fb5-a611-c7be8f590953",
   "metadata": {},
   "source": [
    "### Random Forest"
   ]
  },
  {
   "cell_type": "code",
   "execution_count": 24,
   "id": "010210c5-463e-4622-a5ad-740a4d2d7ea7",
   "metadata": {
    "scrolled": true
   },
   "outputs": [
    {
     "name": "stdout",
     "output_type": "stream",
     "text": [
      "              precision    recall  f1-score   support\n",
      "\n",
      "           0       0.99      1.00      1.00     83813\n",
      "           1       0.00      0.00      0.00       721\n",
      "\n",
      "    accuracy                           0.99     84534\n",
      "   macro avg       0.50      0.50      0.50     84534\n",
      "weighted avg       0.98      0.99      0.99     84534\n",
      "\n"
     ]
    },
    {
     "name": "stderr",
     "output_type": "stream",
     "text": [
      "/Library/Frameworks/Python.framework/Versions/3.12/lib/python3.12/site-packages/sklearn/metrics/_classification.py:1497: UndefinedMetricWarning: Precision is ill-defined and being set to 0.0 in labels with no predicted samples. Use `zero_division` parameter to control this behavior.\n",
      "  _warn_prf(average, modifier, f\"{metric.capitalize()} is\", len(result))\n",
      "/Library/Frameworks/Python.framework/Versions/3.12/lib/python3.12/site-packages/sklearn/metrics/_classification.py:1497: UndefinedMetricWarning: Precision is ill-defined and being set to 0.0 in labels with no predicted samples. Use `zero_division` parameter to control this behavior.\n",
      "  _warn_prf(average, modifier, f\"{metric.capitalize()} is\", len(result))\n",
      "/Library/Frameworks/Python.framework/Versions/3.12/lib/python3.12/site-packages/sklearn/metrics/_classification.py:1497: UndefinedMetricWarning: Precision is ill-defined and being set to 0.0 in labels with no predicted samples. Use `zero_division` parameter to control this behavior.\n",
      "  _warn_prf(average, modifier, f\"{metric.capitalize()} is\", len(result))\n"
     ]
    }
   ],
   "source": [
    "model_rf = RandomForestClassifier(max_depth=2, random_state=0)\n",
    "model_rf.fit(X_train, y_train)\n",
    "pred_train_rf = model_rf.predict(X_train)\n",
    "print(classification_report(y_train, pred_train_rf))"
   ]
  },
  {
   "cell_type": "markdown",
   "id": "4fed795e-25ee-400f-b1e8-c8e9e2da0fc7",
   "metadata": {},
   "source": [
    "We can see that for these two models, all scores for \"purchase\" is 0, therefore, the imbalance in the training data largely affect the training result. We can try tackle it. "
   ]
  },
  {
   "cell_type": "markdown",
   "id": "ad9a7b9e-0902-42fb-a819-e6c3fe2271be",
   "metadata": {},
   "source": [
    "## Dealing with imbalance"
   ]
  },
  {
   "cell_type": "markdown",
   "id": "d60e8dba-6bbf-463d-bd03-a20fae529e66",
   "metadata": {},
   "source": [
    "### Upsampling"
   ]
  },
  {
   "cell_type": "code",
   "execution_count": 26,
   "id": "021d6179-829a-404b-88a1-4da3d2c3cc41",
   "metadata": {},
   "outputs": [
    {
     "data": {
      "text/plain": [
       "target\n",
       "0    83813\n",
       "1    83813\n",
       "Name: count, dtype: int64"
      ]
     },
     "execution_count": 26,
     "metadata": {},
     "output_type": "execute_result"
    }
   ],
   "source": [
    "from sklearn.utils import resample\n",
    "\n",
    "df_target_class = train_data[train_data['target']==1]\n",
    "df_else_class = train_data[train_data['target']==0]\n",
    "\n",
    "df_target_class_upsampled = resample(df_target_class,\n",
    "                                    replace = True,\n",
    "                                    n_samples = 83813,\n",
    "                                    random_state = 123)\n",
    "\n",
    "df_upsampled = pd.concat([df_else_class, df_target_class_upsampled])\n",
    "\n",
    "df_upsampled['target'].value_counts()"
   ]
  },
  {
   "cell_type": "markdown",
   "id": "0882d020-a83b-4560-acc0-aef16938105f",
   "metadata": {},
   "source": [
    "Now, we have created to samples with the same size by adding ramdomly douplicated samples in the minority group. Continue and try with random forest."
   ]
  },
  {
   "cell_type": "code",
   "execution_count": 30,
   "id": "c7cf1423-d487-4634-8b62-54c165f3372c",
   "metadata": {
    "scrolled": true
   },
   "outputs": [
    {
     "name": "stdout",
     "output_type": "stream",
     "text": [
      "              precision    recall  f1-score   support\n",
      "\n",
      "           0       1.00      0.41      0.58     83813\n",
      "           1       0.01      0.84      0.02       721\n",
      "\n",
      "    accuracy                           0.42     84534\n",
      "   macro avg       0.50      0.63      0.30     84534\n",
      "weighted avg       0.99      0.42      0.58     84534\n",
      "\n"
     ]
    }
   ],
   "source": [
    "x_upsampled = df_upsampled[['V1', 'V2', 'V3', 'V4', 'V5', 'V6', 'V7']]\n",
    "y_upsampled = df_upsampled['target']\n",
    "\n",
    "model_rf_ups = RandomForestClassifier(max_depth=2, random_state=0)\n",
    "model_rf_ups.fit(x_upsampled, y_upsampled)\n",
    "pred_rf_ups = model_rf_ups.predict(X_train)\n",
    "print(classification_report(y_train, pred_rf_ups))"
   ]
  },
  {
   "cell_type": "markdown",
   "id": "2b162196-cd62-4781-8527-da4663d5422d",
   "metadata": {},
   "source": [
    "### Downsampling"
   ]
  },
  {
   "cell_type": "code",
   "execution_count": 31,
   "id": "2898f72f-50e7-4a11-b295-1b4622fe1424",
   "metadata": {
    "scrolled": true
   },
   "outputs": [
    {
     "name": "stdout",
     "output_type": "stream",
     "text": [
      "              precision    recall  f1-score   support\n",
      "\n",
      "           0       1.00      0.47      0.64     83813\n",
      "           1       0.01      0.80      0.03       721\n",
      "\n",
      "    accuracy                           0.47     84534\n",
      "   macro avg       0.50      0.63      0.33     84534\n",
      "weighted avg       0.99      0.47      0.63     84534\n",
      "\n"
     ]
    }
   ],
   "source": [
    "df_anybody_class_downsampled = resample(df_else_class,\n",
    "                                       replace = False,\n",
    "                                       n_samples = 721,\n",
    "                                       random_state = 132)\n",
    "\n",
    "df_downsampled = pd.concat([df_anybody_class_downsampled, df_target_class])\n",
    "\n",
    "x_downsampled = df_downsampled[['V1', 'V2', 'V3', 'V4', 'V5', 'V6', 'V7']]\n",
    "y_downsampled = df_downsampled['target']\n",
    "\n",
    "model_rf_ds = RandomForestClassifier(max_depth=2, random_state=0)\n",
    "model_rf_ds.fit(x_downsampled, y_downsampled)\n",
    "pred_rf_ds = model_rf_ds.predict(X_train)\n",
    "print(classification_report(y_train, pred_rf_ds))"
   ]
  },
  {
   "cell_type": "markdown",
   "id": "29cb27f7-39bd-45f0-86af-8167bb206578",
   "metadata": {},
   "source": [
    "According to the aboved two methods, we can see that the recall and F1 score for both categories is low. Precision for positive class is extremely low without improvement. This better than before but still not a good approach"
   ]
  },
  {
   "cell_type": "code",
   "execution_count": null,
   "id": "8eff6b03-e4fe-47b6-b385-cc4c89d78815",
   "metadata": {},
   "outputs": [],
   "source": [
    "from sklearn.metrics import roc_auc_score\n",
    "\n",
    "prob_y_2 = model_rf_downs.predict_proba(X_train)"
   ]
  }
 ],
 "metadata": {
  "kernelspec": {
   "display_name": "Python 3 (ipykernel)",
   "language": "python",
   "name": "python3"
  },
  "language_info": {
   "codemirror_mode": {
    "name": "ipython",
    "version": 3
   },
   "file_extension": ".py",
   "mimetype": "text/x-python",
   "name": "python",
   "nbconvert_exporter": "python",
   "pygments_lexer": "ipython3",
   "version": "3.12.0"
  }
 },
 "nbformat": 4,
 "nbformat_minor": 5
}
